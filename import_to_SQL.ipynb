{
 "cells": [
  {
   "cell_type": "markdown",
   "metadata": {},
   "source": [
    "Import a CSV File to SQL Server using Python\n",
    "\n",
    "I use psycopg2 and copy_expert method to load data from csv file to tables created using Dbeaver and sql query.\n",
    "CREATE TABLE public.articleconcepts (\n",
    "\tid bigserial NOT NULL,\n",
    "\tarticleid int8 NOT NULL,\n",
    "\tconceptid int8 NOT NULL,\n",
    "\ttotaltf int4 NOT NULL,\n",
    "\tdatesubmitted date NOT NULL,\n",
    "\tCONSTRAINT articleconcepts_pkey PRIMARY KEY (id)\n",
    ");\n",
    "\n",
    "CREATE TABLE public.articleidtotals (\n",
    "\tid serial4 NOT NULL,\n",
    "\ttotalsid int8 NOT NULL,\n",
    "\tlastdate timestamp NOT NULL,\n",
    "\tCONSTRAINT articleidtotals_pk PRIMARY KEY (id),\n",
    "\tCONSTRAINT articleidtotals_un UNIQUE (lastdate)\n",
    ");\n",
    "\n",
    "CREATE TABLE public.concepts (\n",
    "\tid serial4 NOT NULL,\n",
    "\tbasic varchar NOT NULL,\n",
    "\tmainname varchar NOT NULL,\n",
    "\tCONSTRAINT concepts_pk PRIMARY KEY (id),\n",
    "\tCONSTRAINT concepts_un UNIQUE (mainname)\n",
    ");"
   ]
  },
  {
   "cell_type": "code",
   "execution_count": 57,
   "metadata": {},
   "outputs": [],
   "source": [
    "import psycopg2 as pg2\n",
    "\n",
    "\"\"\"Here we populate created tables 'articleconcepts', 'articleidtotals', 'concepts' with data\"\"\"\n",
    "\n",
    "pg_creds={\n",
    "    \"host\": \"10.186.0.15\",\n",
    "    \"port\":\"5432\",\n",
    "    \"database\": \"wiseconcepts\",\n",
    "    \"user\":\"postgres\",\n",
    "    \"password\":\"secret\"\n",
    "}\n",
    "\n",
    "def pg_load():\n",
    "\n",
    "    with pg2.connect(**pg_creds) as pg_connection:\n",
    "        cur =pg_connection.cursor()\n",
    "        with open('concepts.csv','r') as csv_file:\n",
    "            cur.copy_expert(\"copy concepts (id,basic,mainname) from stdin with header csv\",csv_file)\n",
    "\n",
    "if __name__ =='__main__':\n",
    "    pg_load()"
   ]
  }
 ],
 "metadata": {
  "kernelspec": {
   "display_name": "Python 3.6.9 64-bit",
   "language": "python",
   "name": "python3"
  },
  "language_info": {
   "codemirror_mode": {
    "name": "ipython",
    "version": 3
   },
   "file_extension": ".py",
   "mimetype": "text/x-python",
   "name": "python",
   "nbconvert_exporter": "python",
   "pygments_lexer": "ipython3",
   "version": "3.6.9"
  },
  "orig_nbformat": 4,
  "vscode": {
   "interpreter": {
    "hash": "31f2aee4e71d21fbe5cf8b01ff0e069b9275f58929596ceb00d14d90e3e16cd6"
   }
  }
 },
 "nbformat": 4,
 "nbformat_minor": 2
}
