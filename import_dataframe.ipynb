{
 "cells": [
  {
   "cell_type": "markdown",
   "metadata": {},
   "source": [
    "Import data from csv files to dataframe objects"
   ]
  },
  {
   "cell_type": "code",
   "execution_count": 1,
   "metadata": {},
   "outputs": [
    {
     "name": "stdout",
     "output_type": "stream",
     "text": [
      "   articleid  conceptid  totaltf       datesubmitted\n",
      "0    1080366        853        1 1986-04-25 15:39:49\n",
      "1    1080366       1514        1 1986-04-25 15:39:49\n",
      "2    1080366       2992        1 1986-04-25 15:39:49\n"
     ]
    }
   ],
   "source": [
    "import pandas as pd\n",
    "import numpy as np\n",
    "from pandasql import sqldf\n",
    "\n",
    "\n",
    "# Import CSV\n",
    "data_articleconc = pd.read_csv (r\"articleconcepts.csv\")   \n",
    "df_articleconc = pd.DataFrame(data_articleconc)\n",
    "df_articleconc['datesubmitted'] = pd.to_datetime(df_articleconc['datesubmitted']) # change datesubmitted column to datetime type\n",
    "\n",
    "data_articleidtotals = pd.read_csv (r\"articleidtotals.csv\")   \n",
    "df_articleidtotals = pd.DataFrame(data_articleidtotals)\n",
    "df_articleidtotals['lastdate'] = pd.to_datetime(df_articleidtotals['lastdate']) # change datesubmitted column to datetime type\n",
    "\n",
    "data_conc = pd.read_csv (r\"concepts.csv\")   \n",
    "df_conc = pd.DataFrame(data_conc)\n",
    "\n",
    "\n",
    "print(df_articleconc[:3])"
   ]
  },
  {
   "cell_type": "code",
   "execution_count": 2,
   "metadata": {},
   "outputs": [
    {
     "name": "stdout",
     "output_type": "stream",
     "text": [
      "   totalsid   lastdate\n",
      "0      6594 1994-04-25\n",
      "1      6975 1994-05-25\n",
      "2      7417 1994-06-25\n"
     ]
    }
   ],
   "source": [
    "print(df_articleidtotals[:3])"
   ]
  },
  {
   "cell_type": "code",
   "execution_count": 3,
   "metadata": {},
   "outputs": [
    {
     "name": "stdout",
     "output_type": "stream",
     "text": [
      "   id  basic              mainname\n",
      "0   1   True  ScienceWISE Ontology\n",
      "1   3  False        Effective mass\n",
      "2   4  False        Einstein solid\n"
     ]
    }
   ],
   "source": [
    "print(df_conc[:3])"
   ]
  },
  {
   "cell_type": "code",
   "execution_count": 4,
   "metadata": {},
   "outputs": [
    {
     "name": "stdout",
     "output_type": "stream",
     "text": [
      "<class 'pandas.core.frame.DataFrame'>\n",
      "RangeIndex: 30901668 entries, 0 to 30901667\n",
      "Data columns (total 4 columns):\n",
      " #   Column         Dtype         \n",
      "---  ------         -----         \n",
      " 0   articleid      int64         \n",
      " 1   conceptid      int64         \n",
      " 2   totaltf        int64         \n",
      " 3   datesubmitted  datetime64[ns]\n",
      "dtypes: datetime64[ns](1), int64(3)\n",
      "memory usage: 943.0 MB\n"
     ]
    }
   ],
   "source": [
    "# check how many records are in the dataset \n",
    "# and if we have any NA\n",
    "\n",
    "df_articleconc.info()"
   ]
  },
  {
   "cell_type": "markdown",
   "metadata": {},
   "source": [
    "Data cleaning"
   ]
  },
  {
   "cell_type": "code",
   "execution_count": 5,
   "metadata": {},
   "outputs": [
    {
     "data": {
      "text/plain": [
       "articleid        0\n",
       "conceptid        0\n",
       "totaltf          0\n",
       "datesubmitted    0\n",
       "dtype: int64"
      ]
     },
     "execution_count": 5,
     "metadata": {},
     "output_type": "execute_result"
    }
   ],
   "source": [
    "df_articleconc.isnull().sum()"
   ]
  },
  {
   "cell_type": "code",
   "execution_count": 6,
   "metadata": {},
   "outputs": [
    {
     "data": {
      "text/plain": [
       "totalsid    0\n",
       "lastdate    0\n",
       "dtype: int64"
      ]
     },
     "execution_count": 6,
     "metadata": {},
     "output_type": "execute_result"
    }
   ],
   "source": [
    "df_articleidtotals.isnull().sum()"
   ]
  },
  {
   "cell_type": "code",
   "execution_count": 7,
   "metadata": {},
   "outputs": [
    {
     "data": {
      "text/plain": [
       "id          0\n",
       "basic       0\n",
       "mainname    0\n",
       "dtype: int64"
      ]
     },
     "execution_count": 7,
     "metadata": {},
     "output_type": "execute_result"
    }
   ],
   "source": [
    "df_conc.isnull().sum()"
   ]
  },
  {
   "cell_type": "markdown",
   "metadata": {},
   "source": [
    "Find duplicates in table 'concepts' mainname and value counts on 'basic' column"
   ]
  },
  {
   "cell_type": "code",
   "execution_count": 8,
   "metadata": {},
   "outputs": [
    {
     "data": {
      "text/plain": [
       "basic\n",
       "False    20716\n",
       "True       375\n",
       "dtype: int64"
      ]
     },
     "execution_count": 8,
     "metadata": {},
     "output_type": "execute_result"
    }
   ],
   "source": [
    "df_conc.value_counts([\"basic\"]) # we have more non-basic concepts in our database"
   ]
  },
  {
   "cell_type": "code",
   "execution_count": 9,
   "metadata": {},
   "outputs": [
    {
     "name": "stdout",
     "output_type": "stream",
     "text": [
      "Count duplicated concepts id: 0\n",
      "Count duplicated names for concepts: 0\n"
     ]
    }
   ],
   "source": [
    "# Ensure that we have all dictinct names for the concepts id\n",
    "\n",
    "duplicated_id = df_conc['id'].duplicated()\n",
    "duplicated_name = df_conc['mainname'].duplicated() \n",
    "print(\"Count duplicated concepts id:\", duplicated_id.sum()) \n",
    "print(\"Count duplicated names for concepts:\", duplicated_name.sum())"
   ]
  },
  {
   "cell_type": "markdown",
   "metadata": {},
   "source": [
    "It is necessary to check if any of the concepts present in table 'concepts' has zero total frequency in table 'articleconcepts'"
   ]
  },
  {
   "cell_type": "code",
   "execution_count": 10,
   "metadata": {},
   "outputs": [
    {
     "name": "stdout",
     "output_type": "stream",
     "text": [
      "4721\n"
     ]
    }
   ],
   "source": [
    "difference = len(df_conc.groupby('id'))-len(df_articleconc.groupby('conceptid'))\n",
    "print(difference)"
   ]
  },
  {
   "cell_type": "markdown",
   "metadata": {},
   "source": [
    "To work only with concepts that where mentioned in the papers we will join the tables 'articleconcepts' and 'concepts' on concepts ID."
   ]
  },
  {
   "cell_type": "code",
   "execution_count": 11,
   "metadata": {},
   "outputs": [
    {
     "data": {
      "text/html": [
       "<div>\n",
       "<style scoped>\n",
       "    .dataframe tbody tr th:only-of-type {\n",
       "        vertical-align: middle;\n",
       "    }\n",
       "\n",
       "    .dataframe tbody tr th {\n",
       "        vertical-align: top;\n",
       "    }\n",
       "\n",
       "    .dataframe thead th {\n",
       "        text-align: right;\n",
       "    }\n",
       "</style>\n",
       "<table border=\"1\" class=\"dataframe\">\n",
       "  <thead>\n",
       "    <tr style=\"text-align: right;\">\n",
       "      <th></th>\n",
       "      <th>id</th>\n",
       "      <th>basic</th>\n",
       "      <th>mainname</th>\n",
       "    </tr>\n",
       "  </thead>\n",
       "  <tbody>\n",
       "    <tr>\n",
       "      <th>0</th>\n",
       "      <td>1</td>\n",
       "      <td>True</td>\n",
       "      <td>ScienceWISE Ontology</td>\n",
       "    </tr>\n",
       "    <tr>\n",
       "      <th>14180</th>\n",
       "      <td>8</td>\n",
       "      <td>False</td>\n",
       "      <td>Electroacoustic phenomena</td>\n",
       "    </tr>\n",
       "    <tr>\n",
       "      <th>14935</th>\n",
       "      <td>17</td>\n",
       "      <td>False</td>\n",
       "      <td>Gough-Joule effect</td>\n",
       "    </tr>\n",
       "    <tr>\n",
       "      <th>20027</th>\n",
       "      <td>46</td>\n",
       "      <td>False</td>\n",
       "      <td>Timeline of the Big Bang</td>\n",
       "    </tr>\n",
       "    <tr>\n",
       "      <th>26127</th>\n",
       "      <td>62</td>\n",
       "      <td>False</td>\n",
       "      <td>Timeline of cosmology</td>\n",
       "    </tr>\n",
       "    <tr>\n",
       "      <th>...</th>\n",
       "      <td>...</td>\n",
       "      <td>...</td>\n",
       "      <td>...</td>\n",
       "    </tr>\n",
       "    <tr>\n",
       "      <th>30906381</th>\n",
       "      <td>204424</td>\n",
       "      <td>False</td>\n",
       "      <td>Turbulence_1</td>\n",
       "    </tr>\n",
       "    <tr>\n",
       "      <th>30906382</th>\n",
       "      <td>204425</td>\n",
       "      <td>False</td>\n",
       "      <td>Cross validation_1</td>\n",
       "    </tr>\n",
       "    <tr>\n",
       "      <th>30906383</th>\n",
       "      <td>204426</td>\n",
       "      <td>False</td>\n",
       "      <td>Cross validation_2</td>\n",
       "    </tr>\n",
       "    <tr>\n",
       "      <th>30906384</th>\n",
       "      <td>204427</td>\n",
       "      <td>False</td>\n",
       "      <td>Over-Complete Local Binary Patterns</td>\n",
       "    </tr>\n",
       "    <tr>\n",
       "      <th>30906388</th>\n",
       "      <td>204429</td>\n",
       "      <td>False</td>\n",
       "      <td>Graph Convolution</td>\n",
       "    </tr>\n",
       "  </tbody>\n",
       "</table>\n",
       "<p>4721 rows × 3 columns</p>\n",
       "</div>"
      ],
      "text/plain": [
       "              id  basic                             mainname\n",
       "0              1   True                 ScienceWISE Ontology\n",
       "14180          8  False            Electroacoustic phenomena\n",
       "14935         17  False                   Gough-Joule effect\n",
       "20027         46  False             Timeline of the Big Bang\n",
       "26127         62  False                Timeline of cosmology\n",
       "...          ...    ...                                  ...\n",
       "30906381  204424  False                         Turbulence_1\n",
       "30906382  204425  False                   Cross validation_1\n",
       "30906383  204426  False                   Cross validation_2\n",
       "30906384  204427  False  Over-Complete Local Binary Patterns\n",
       "30906388  204429  False                    Graph Convolution\n",
       "\n",
       "[4721 rows x 3 columns]"
      ]
     },
     "execution_count": 11,
     "metadata": {},
     "output_type": "execute_result"
    }
   ],
   "source": [
    "# concepts that we will exclude from further analysis can be found using the left outer join with python\n",
    "import pandas as pd\n",
    "non_matched_concepts = pd.merge(df_conc, df_articleconc, left_on =['id'], right_on=['conceptid'], how=\"outer\", indicator=True\n",
    "              ).query('_merge==\"left_only\"')\n",
    "non_matched_concepts[['id', 'basic','mainname']]"
   ]
  },
  {
   "cell_type": "code",
   "execution_count": 12,
   "metadata": {},
   "outputs": [],
   "source": [
    "# concepts that will be analysed\n",
    "\n",
    "df_matched_concepts = pd.merge(df_conc, df_articleconc, left_on =['id'], right_on=['conceptid'], how=\"inner\")\n",
    "df_selected_articleconcepts = df_matched_concepts[['conceptid','totaltf','datesubmitted', 'basic','mainname','articleid']]"
   ]
  },
  {
   "cell_type": "code",
   "execution_count": 13,
   "metadata": {},
   "outputs": [
    {
     "data": {
      "text/html": [
       "<div>\n",
       "<style scoped>\n",
       "    .dataframe tbody tr th:only-of-type {\n",
       "        vertical-align: middle;\n",
       "    }\n",
       "\n",
       "    .dataframe tbody tr th {\n",
       "        vertical-align: top;\n",
       "    }\n",
       "\n",
       "    .dataframe thead th {\n",
       "        text-align: right;\n",
       "    }\n",
       "</style>\n",
       "<table border=\"1\" class=\"dataframe\">\n",
       "  <thead>\n",
       "    <tr style=\"text-align: right;\">\n",
       "      <th></th>\n",
       "      <th>index</th>\n",
       "      <th>conceptid</th>\n",
       "      <th>totaltf</th>\n",
       "      <th>datesubmitted</th>\n",
       "      <th>basic</th>\n",
       "      <th>mainname</th>\n",
       "      <th>articleid</th>\n",
       "    </tr>\n",
       "  </thead>\n",
       "  <tbody>\n",
       "    <tr>\n",
       "      <th>30901663</th>\n",
       "      <td>30901663</td>\n",
       "      <td>204415</td>\n",
       "      <td>1</td>\n",
       "      <td>2018-06-11 17:46:51</td>\n",
       "      <td>False</td>\n",
       "      <td>Transformation group</td>\n",
       "      <td>1510135</td>\n",
       "    </tr>\n",
       "    <tr>\n",
       "      <th>30901664</th>\n",
       "      <td>30901664</td>\n",
       "      <td>204415</td>\n",
       "      <td>1</td>\n",
       "      <td>2018-06-26 13:55:11</td>\n",
       "      <td>False</td>\n",
       "      <td>Transformation group</td>\n",
       "      <td>1534708</td>\n",
       "    </tr>\n",
       "    <tr>\n",
       "      <th>30901665</th>\n",
       "      <td>30901665</td>\n",
       "      <td>204428</td>\n",
       "      <td>1</td>\n",
       "      <td>2018-06-11 00:00:00</td>\n",
       "      <td>False</td>\n",
       "      <td>Lepton jet</td>\n",
       "      <td>1392990</td>\n",
       "    </tr>\n",
       "    <tr>\n",
       "      <th>30901666</th>\n",
       "      <td>30901666</td>\n",
       "      <td>204428</td>\n",
       "      <td>6</td>\n",
       "      <td>2018-06-14 00:00:00</td>\n",
       "      <td>False</td>\n",
       "      <td>Lepton jet</td>\n",
       "      <td>1588240</td>\n",
       "    </tr>\n",
       "    <tr>\n",
       "      <th>30901667</th>\n",
       "      <td>30901667</td>\n",
       "      <td>204428</td>\n",
       "      <td>1</td>\n",
       "      <td>2018-06-22 00:00:00</td>\n",
       "      <td>False</td>\n",
       "      <td>Lepton jet</td>\n",
       "      <td>1592873</td>\n",
       "    </tr>\n",
       "  </tbody>\n",
       "</table>\n",
       "</div>"
      ],
      "text/plain": [
       "             index  conceptid  totaltf       datesubmitted  basic  \\\n",
       "30901663  30901663     204415        1 2018-06-11 17:46:51  False   \n",
       "30901664  30901664     204415        1 2018-06-26 13:55:11  False   \n",
       "30901665  30901665     204428        1 2018-06-11 00:00:00  False   \n",
       "30901666  30901666     204428        6 2018-06-14 00:00:00  False   \n",
       "30901667  30901667     204428        1 2018-06-22 00:00:00  False   \n",
       "\n",
       "                      mainname  articleid  \n",
       "30901663  Transformation group    1510135  \n",
       "30901664  Transformation group    1534708  \n",
       "30901665            Lepton jet    1392990  \n",
       "30901666            Lepton jet    1588240  \n",
       "30901667            Lepton jet    1592873  "
      ]
     },
     "execution_count": 13,
     "metadata": {},
     "output_type": "execute_result"
    }
   ],
   "source": [
    "# save prepared dataframe in Feather format \n",
    "import pyarrow.feather as feather\n",
    "\n",
    "df_selected_articleconcepts.reset_index().to_feather('df_selected_articleconcepts.feather')\n",
    "\n",
    "df_selected_articleconcepts = pd.read_feather('df_selected_articleconcepts.feather')\n",
    "#df_selected_articleconcepts.set_index('conceptid', inplace=True)\n",
    "df_selected_articleconcepts.tail()"
   ]
  },
  {
   "cell_type": "markdown",
   "metadata": {},
   "source": [
    "Some of the concepts has very low appearance in the scientific documents so we find those concepts and remove them from the dataset to\n",
    "\n",
    "groped = df_articleconc.groupby('conceptid')\n",
    "filtered = groped.apply(lambda g: g[g['totaltf'] == 1])\n",
    "print(filtered)"
   ]
  },
  {
   "cell_type": "markdown",
   "metadata": {},
   "source": [
    "Define a function to calculate the entropy of a concept within selected time interval"
   ]
  },
  {
   "cell_type": "code",
   "execution_count": 14,
   "metadata": {},
   "outputs": [],
   "source": [
    "from datetime import date\n",
    "\n",
    "def c_entropy(concept_id: int, start_date:date, end_date:date, df) -> int:\n",
    "\n",
    "    \"\"\"Calculate the entropy of the concept for a given time interval.\"\"\"\n",
    "\n",
    "    rslt_df = df[(df['conceptid'] == concept_id) & (df['datesubmitted'] > start_date) & (df['datesubmitted'] <= end_date)]\n",
    "    uniq_totaltf=rslt_df['totaltf'].value_counts(normalize=True, ascending =True,sort =True,).to_dict()\n",
    "    elem_entropy=[x*np.log2(x) for x in uniq_totaltf.values()]\n",
    "    shannon_entropy=-sum(elem_entropy)\n",
    "\n",
    "    return(shannon_entropy)\n",
    "\n"
   ]
  },
  {
   "cell_type": "code",
   "execution_count": 15,
   "metadata": {},
   "outputs": [
    {
     "data": {
      "text/plain": [
       "2.136380250260913"
      ]
     },
     "execution_count": 15,
     "metadata": {},
     "output_type": "execute_result"
    }
   ],
   "source": [
    "# test of the c_entropy function\n",
    "c_entropy(1514, '2000-6-1', '2000-6-30', df_selected_articleconcepts)"
   ]
  },
  {
   "cell_type": "markdown",
   "metadata": {},
   "source": [
    "Create routine for the entropy time series calculations for selected concept"
   ]
  },
  {
   "cell_type": "code",
   "execution_count": 16,
   "metadata": {},
   "outputs": [],
   "source": [
    "end_dates = pd.date_range('2001-10-25', '2018-06-25',freq='m')#. to_pydatetime(). tolist()\n",
    "ts = [c_entropy(1514, '2000-6-1',x, df_selected_articleconcepts) for x in end_dates]"
   ]
  },
  {
   "cell_type": "code",
   "execution_count": 17,
   "metadata": {},
   "outputs": [
    {
     "data": {
      "image/png": "[encoded data removed]",
      "text/plain": [
       "<Figure size 432x288 with 1 Axes>"
      ]
     },
     "metadata": {
      "needs_background": "light"
     },
     "output_type": "display_data"
    }
   ],
   "source": [
    "import matplotlib.pyplot as plt\n",
    "from datetime import datetime, timedelta\n",
    "import plotly.express as px \n",
    "\n",
    "plt.rc('font', size=10)\n",
    "plt.plot_date(end_dates, ts, linestyle='-', fmt='-', label='Entropy')\n",
    "\n",
    "# Giving title to the graph\n",
    "plt.title('Concepts entropy time series')\n",
    "\n",
    "# Setting axes\n",
    "\n",
    "#plot = px.line()\n",
    "plt.tick_params(axis='x', rotation=90)\n",
    "plt.grid(True)\n",
    "\n",
    "# Display\n",
    "\n",
    "plt.show()"
   ]
  },
  {
   "cell_type": "markdown",
   "metadata": {},
   "source": [
    "# alternative way to calculate the entropy using stats library \n",
    "\n",
    "import pandas as pd\n",
    "import scipy\n",
    "from scipy import stats\n",
    "\n",
    "pd_series = pd.Series(df_selected_articleconcepts_interv['totaltf'])\n",
    "counts = pd_series.value_counts()\n",
    "entropy = scipy.stats.entropy(counts)\n",
    "\n",
    "print(entropy)"
   ]
  },
  {
   "cell_type": "markdown",
   "metadata": {},
   "source": [
    "Mutual entropy distance function "
   ]
  },
  {
   "cell_type": "code",
   "execution_count": 18,
   "metadata": {},
   "outputs": [],
   "source": [
    "from datetime import date\n",
    "import math\n",
    "\n",
    "def distance_entropy(left_concept: int, right_concept: int, start_date: date, end_date: date, df_data, df_totals) -> int:\n",
    "\n",
    "\n",
    "    \"\"\"Function to calculate mutual uinformation distance between a pair of concepts. Return symmetric measure of concepts similarity based of \n",
    "    concept or term frequency (TF). The input: concepts IDs in any order, period for distance calculation, dataframe with articleid, concept tf \n",
    "    and datesubmitted columns. To speed up calculation function needs additional dataframe with total number of articles published \n",
    "    up to an end_date. \"\"\"\n",
    "\n",
    "    start_date = '1986-04-25'\n",
    "    end_date = '2018-04-25'\n",
    "\n",
    "    # min_start_date = '1986-04-25' # first date in articleid total\n",
    "    # max_end_date = '2018-04-25'  # last date in articleid total (actual last date is 2018-04-29 but we neglect 4 days for correct month slicing)\n",
    "    left_concept = 266\n",
    "    right_concept = 3545\n",
    "\n",
    "    df = df_data # shorting name for the dataframe with relevant concepts and articles\n",
    "    df_articleidtotals = df_totals\n",
    "\n",
    "    a_total = df_articleidtotals[(df_articleidtotals['lastdate'] == end_date)].iloc[0]['totalsid'] # the number of distinct articles in the database before max_last_date\n",
    "    # select data for the explicit conceptid and date range\n",
    "    rslt_df_left = df[(df['conceptid'] == left_concept) & (df['datesubmitted'] >= start_date) & (df['datesubmitted'] <= end_date)][['articleid','totaltf']]\n",
    "    rslt_df_right = df[(df['conceptid'] == right_concept) & (df['datesubmitted'] >= start_date) & (df['datesubmitted'] <= end_date)][['articleid','totaltf']]\n",
    "\n",
    "    # total number of articles mention left or right concept\n",
    "    a_total_c_left = len(rslt_df_left.value_counts('articleid'))\n",
    "    a_total_c_right = len(rslt_df_right.value_counts('articleid'))\n",
    "\n",
    "    # total number of articles that mention any of the concepts for that we use analog of SQL UNION (Area X+ Area XY+ Area Y)\n",
    "    a_total_c_right_and_left = pd.concat([rslt_df_left, rslt_df_right]).drop_duplicates('articleid')\n",
    "\n",
    "    # number of articles in the database that not mention left or right concept\n",
    "    a_total_not_c_left = a_total - a_total_c_left # Area 1 + Area Y\n",
    "    a_total_not_c_right = a_total - a_total_c_right  # Area 1 + Area X\n",
    "\n",
    "    # number of articles in the database that do not mention bouth left and right concept\n",
    "    a_total_not_c_right_and_left = a_total - len(a_total_c_right_and_left) # Area 1\n",
    "\n",
    "    # extract articles where both concepts A and B cite together (SQL inner join on two subsets)\n",
    "    inner_group = pd.merge(rslt_df_left, rslt_df_right, on=\"articleid\", how=\"inner\") # Area XY\n",
    "    # define a number of times each unique combination of TF for X and Y appears in articles\n",
    "    prob_inner_group = inner_group.value_counts([\"totaltf_x\", \"totaltf_y\"], sort = True).to_frame('cond_prob_inner').reset_index()\n",
    "    # we need to connect to the joint probability (P(x,y)) corresponding p(x) and p(y) values where x (left) and y (right) is not zero \n",
    "    prob_left = rslt_df_left.value_counts('totaltf').rename_axis(\"totaltf_x\").to_frame('cond_prob_left').reset_index() # for p(x)\n",
    "    prob_right = rslt_df_right.value_counts('totaltf').rename_axis(\"totaltf_y\").to_frame('cond_prob_right').reset_index() # for p(y)\n",
    "\n",
    "    # correspondence of TF value counts for P(X), P(Y) and P(X,Y)\n",
    "    prob_join_X_XY_Y = pd.merge(pd.merge(prob_left,prob_inner_group,on=\"totaltf_x\", how=\"inner\"),prob_right,on='totaltf_y', how=\"inner\")\n",
    "\n",
    "\n",
    "    # extract articles where only concept A(x) is mentioned discarding the articles where both concepts cite together (SQL left join)\n",
    "    left_group = pd.merge(rslt_df_left, rslt_df_right, on=\"articleid\", how=\"left\") # (x,y=0 and not zero) -> Area X and Area XY\n",
    "    left_group_y_0 = left_group[left_group['totaltf_y'].isnull()] # (x,y=0) -> Area X\n",
    "    # TF value counts for the x total frequency where y can be both NaN and not zero\n",
    "    prob_left_group_with_not_nan = left_group.value_counts(\"totaltf_x\", sort = True).rename_axis(\"totaltf_x\").to_frame('cond_prob_left')\n",
    "    # TF value counts for the x total frequency where y can be only NaN\n",
    "    prob_left_group = left_group_y_0.value_counts(\"totaltf_x\", sort = True).rename_axis(\"totaltf_x\").to_frame('cond_prob_left')\n",
    "    # the correspondence of tf = x value counts for collection of articles where joint probabily p(x,y=0) - right column and p(x) - left column \n",
    "    prob_joint_y0_simple_x_any = pd.merge(prob_left_group_with_not_nan, prob_left_group, on=\"totaltf_x\", how=\"inner\") \n",
    "\n",
    "\n",
    "    # extract articles where only concept B(y) is mentioned discarding the articles where both concepts cite together (right join)\n",
    "    right_group = pd.merge(rslt_df_left, rslt_df_right, on=\"articleid\", how=\"right\") # (x=0 and not zero, y ) -> Area Y and Area XY\n",
    "    right_group_x_0 = right_group[right_group['totaltf_x'].isnull()]# (x=0,y) -> Area Y\n",
    "    # data for the y total frequency where x can be both NaN and not zero\n",
    "    prob_right_group_with_not_nan = right_group.value_counts(\"totaltf_y\", sort = True).rename_axis(\"totaltf_y\").to_frame('cond_prob_right')\n",
    "    # data for the y total frequency where x can be only NaN\n",
    "    prob_right_group = right_group_x_0.value_counts(\"totaltf_y\", sort = True).rename_axis(\"totaltf_y\").to_frame('cond_prob_right')\n",
    "    # counts for every possible y value for joint probabily p(x=0,y) - right column and p(y) - left column \n",
    "    prob_joint_x0_simple_y_any = pd.merge(prob_right_group_with_not_nan, prob_right_group, on=\"totaltf_y\", how=\"inner\") \n",
    "\n",
    "\n",
    "    # the way to apply function to the row in the dataframe https://www.skytowner.com/explore/applying_a_function_that_takes_as_input_multiple_column_values_in_pandas\n",
    "\n",
    "    # MUTUAL INFIORMATION for a pair of concepts is a sum over x and y in the expression P(X,Y)log(2, P(X,Y)/p(X)P(Y)) so we select four terms\n",
    "\n",
    "    n00 = a_total_not_c_right_and_left # introduce a short notation for a variable (number of articles where both concepts have zero TF)\n",
    "    # first term of the sum for X=0 and Y=0\n",
    "    mutual_inf_00 = (n00/a_total) * math.log2((n00*a_total)/(a_total_not_c_left* a_total_not_c_right))\n",
    "\n",
    "    # part of the sum for non-zero values of X and Y in mutual information\n",
    "    mutual_inf_xy = prob_join_X_XY_Y.apply(lambda row: (row['cond_prob_inner']/a_total)*math.log2((row['cond_prob_inner']*a_total)/(row['cond_prob_left']*row['cond_prob_right'])), axis=1).sum()\n",
    "\n",
    "    # part of the sum for non-zero values of X and Y=0 in mutual information\n",
    "    mutual_inf_x0 = prob_joint_y0_simple_x_any.apply(lambda row: (row['cond_prob_left_y']/a_total)*math.log2((row['cond_prob_left_y']*a_total)/(row['cond_prob_left_x']*a_total_not_c_right)), axis=1).sum()\n",
    "\n",
    "    # part of the sum for X=0 and non-zero values of Y in mutual information\n",
    "    mutual_inf_0y = prob_joint_x0_simple_y_any.apply(lambda row: (row['cond_prob_right_y']/a_total)*math.log2((row['cond_prob_right_y']*a_total)/(row['cond_prob_right_x']*a_total_not_c_left)), axis=1).sum()\n",
    "\n",
    "    # final value for all element of the sum\n",
    "    mi = mutual_inf_00+mutual_inf_xy+mutual_inf_x0+mutual_inf_0y\n",
    "\n",
    "    # MUTUAL ENTROPY for a pair of concepts is a sum over x and y in the expression P(X,Y)log(2, P(X,Y)) we divide its calculation in four parts\n",
    "\n",
    "    # part where both X and Y are zero\n",
    "    mutual_entropy_00 = (n00/a_total) * math.log2(n00/a_total)\n",
    "\n",
    "    # part where both X and Y are not zero\n",
    "    mutual_entropy_xy = prob_join_X_XY_Y.apply(lambda row: (row['cond_prob_inner']/a_total)*math.log2(row['cond_prob_inner']/a_total), axis=1).sum()\n",
    "\n",
    "    # part where Y=0 and X any value\n",
    "    mutual_entropy_x0 = prob_joint_y0_simple_x_any.apply(lambda row: (row['cond_prob_left_y']/a_total)*math.log2(row['cond_prob_left_y']/a_total), axis=1).sum()\n",
    "\n",
    "    # part where X=0 and Y any value\n",
    "    mutual_entropy_0y = prob_joint_x0_simple_y_any.apply(lambda row: (row['cond_prob_right_y']/a_total)*math.log2(row['cond_prob_right_y']/a_total), axis=1).sum()\n",
    "\n",
    "    h_mutual_entropy = -(mutual_entropy_00 + mutual_entropy_xy + mutual_entropy_x0 + mutual_entropy_0y)\n",
    "\n",
    "    # mutual information distance\n",
    "    distMI = 1 - (mi/h_mutual_entropy)\n",
    "\n",
    "\n",
    "\n",
    "    return(distMI)"
   ]
  },
  {
   "cell_type": "markdown",
   "metadata": {},
   "source": [
    "Triangle inequality check for the mutual information distance"
   ]
  },
  {
   "cell_type": "code",
   "execution_count": 19,
   "metadata": {},
   "outputs": [
    {
     "data": {
      "text/plain": [
       "True"
      ]
     },
     "execution_count": 19,
     "metadata": {},
     "output_type": "execute_result"
    }
   ],
   "source": [
    "distance_entropy(266, 3545, '1986-04-25', '2018-04-25', df_selected_articleconcepts, df_articleidtotals)<distance_entropy(266, 1415, '1986-04-25', '2018-04-25', df_selected_articleconcepts, df_articleidtotals)+distance_entropy(1415, 3545, '1986-04-25', '2018-04-25', df_selected_articleconcepts, df_articleidtotals)\n",
    "distance_entropy(266, 3545, '1986-04-25', '2018-04-25', df_selected_articleconcepts, df_articleidtotals)+distance_entropy(266, 1415, '1986-04-25', '2018-04-25', df_selected_articleconcepts, df_articleidtotals)>distance_entropy(1415, 3545, '1986-04-25', '2018-04-25', df_selected_articleconcepts, df_articleidtotals)\n",
    "distance_entropy(266, 3545, '1986-04-25', '2018-04-25', df_selected_articleconcepts, df_articleidtotals)<distance_entropy(1415, 3545, '1986-04-25', '2018-04-25', df_selected_articleconcepts, df_articleidtotals)+distance_entropy(266, 1415, '1986-04-25', '2018-04-25', df_selected_articleconcepts, df_articleidtotals)"
   ]
  },
  {
   "cell_type": "markdown",
   "metadata": {},
   "source": [
    "Next we need to create a distance matrix. We have two options here: i - calculate total distance matrix for all availiable concepts, ii - calculate smaller distance matrix extracting concepts hypotetically close to certain seed concept. First option needs more computational resources so we will use a second option. For this we have to select a list of concepts that will be used to calculate distances. Selecting the approximate topic concepts we find a resulting distance matrix and then filtering the largest distances to find a core of a topic."
   ]
  },
  {
   "cell_type": "markdown",
   "metadata": {},
   "source": [
    "Testing the parallel processing in Python"
   ]
  },
  {
   "cell_type": "code",
   "execution_count": 20,
   "metadata": {},
   "outputs": [
    {
     "ename": "TypeError",
     "evalue": "distance_entropy() missing 1 required positional argument: 'right_concept'",
     "output_type": "error",
     "traceback": [
      "\u001b[0;31m---------------------------------------------------------------------------\u001b[0m",
      "\u001b[0;31mRemoteTraceback\u001b[0m                           Traceback (most recent call last)",
      "\u001b[0;31mRemoteTraceback\u001b[0m: \n\"\"\"\nTraceback (most recent call last):\n  File \"/usr/lib/python3.6/multiprocessing/pool.py\", line 119, in worker\n    result = (True, func(*args, **kwds))\n  File \"/usr/lib/python3.6/multiprocessing/pool.py\", line 44, in mapstar\n    return list(map(*args))\nTypeError: distance_entropy() missing 1 required positional argument: 'right_concept'\n\"\"\"",
      "\nThe above exception was the direct cause of the following exception:\n",
      "\u001b[0;31mTypeError\u001b[0m                                 Traceback (most recent call last)",
      "\u001b[0;32m<ipython-input-20-6d8f75648a0d>\u001b[0m in \u001b[0;36m<module>\u001b[0;34m\u001b[0m\n\u001b[1;32m     21\u001b[0m \u001b[0;34m\u001b[0m\u001b[0m\n\u001b[1;32m     22\u001b[0m \u001b[0;32mif\u001b[0m \u001b[0m__name__\u001b[0m \u001b[0;34m==\u001b[0m \u001b[0;34m'__main__'\u001b[0m\u001b[0;34m:\u001b[0m\u001b[0;34m\u001b[0m\u001b[0;34m\u001b[0m\u001b[0m\n\u001b[0;32m---> 23\u001b[0;31m     \u001b[0mparallel_runs\u001b[0m\u001b[0;34m(\u001b[0m\u001b[0mres_lst\u001b[0m\u001b[0;34m)\u001b[0m\u001b[0;34m\u001b[0m\u001b[0;34m\u001b[0m\u001b[0m\n\u001b[0m\u001b[1;32m     24\u001b[0m     \u001b[0;31m#pool = multiprocessing.Pool(processes=10)\u001b[0m\u001b[0;34m\u001b[0m\u001b[0;34m\u001b[0m\u001b[0;34m\u001b[0m\u001b[0m\n\u001b[1;32m     25\u001b[0m     \u001b[0;31m#result_list = pool.map(myfunc, res_lst)\u001b[0m\u001b[0;34m\u001b[0m\u001b[0;34m\u001b[0m\u001b[0;34m\u001b[0m\u001b[0m\n",
      "\u001b[0;32m<ipython-input-20-6d8f75648a0d>\u001b[0m in \u001b[0;36mparallel_runs\u001b[0;34m(data_list)\u001b[0m\n\u001b[1;32m     17\u001b[0m     \u001b[0mpool\u001b[0m \u001b[0;34m=\u001b[0m \u001b[0mmultiprocessing\u001b[0m\u001b[0;34m.\u001b[0m\u001b[0mPool\u001b[0m\u001b[0;34m(\u001b[0m\u001b[0mprocesses\u001b[0m\u001b[0;34m=\u001b[0m\u001b[0;36m4\u001b[0m\u001b[0;34m)\u001b[0m\u001b[0;34m\u001b[0m\u001b[0;34m\u001b[0m\u001b[0m\n\u001b[1;32m     18\u001b[0m     \u001b[0mprod_x\u001b[0m\u001b[0;34m=\u001b[0m\u001b[0mpartial\u001b[0m\u001b[0;34m(\u001b[0m\u001b[0mdistance_entropy\u001b[0m\u001b[0;34m,\u001b[0m \u001b[0mstart_date\u001b[0m \u001b[0;34m=\u001b[0m \u001b[0;34m'1986-04-25'\u001b[0m\u001b[0;34m,\u001b[0m \u001b[0mend_date\u001b[0m \u001b[0;34m=\u001b[0m \u001b[0;34m'2018-04-25'\u001b[0m\u001b[0;34m,\u001b[0m \u001b[0mdf_data\u001b[0m \u001b[0;34m=\u001b[0m \u001b[0mdf_selected_articleconcepts\u001b[0m\u001b[0;34m,\u001b[0m \u001b[0mdf_totals\u001b[0m \u001b[0;34m=\u001b[0m \u001b[0mdf_articleidtotals\u001b[0m\u001b[0;34m)\u001b[0m \u001b[0;31m#prod_x has only one argument x (y is fixed to 10)\u001b[0m\u001b[0;34m\u001b[0m\u001b[0;34m\u001b[0m\u001b[0m\n\u001b[0;32m---> 19\u001b[0;31m     \u001b[0mresult_list\u001b[0m \u001b[0;34m=\u001b[0m \u001b[0mpool\u001b[0m\u001b[0;34m.\u001b[0m\u001b[0mmap\u001b[0m\u001b[0;34m(\u001b[0m\u001b[0mprod_x\u001b[0m\u001b[0;34m,\u001b[0m \u001b[0mres_lst\u001b[0m\u001b[0;34m)\u001b[0m\u001b[0;34m\u001b[0m\u001b[0;34m\u001b[0m\u001b[0m\n\u001b[0m\u001b[1;32m     20\u001b[0m     \u001b[0mprint\u001b[0m\u001b[0;34m(\u001b[0m\u001b[0mresult_list\u001b[0m\u001b[0;34m)\u001b[0m\u001b[0;34m\u001b[0m\u001b[0;34m\u001b[0m\u001b[0m\n\u001b[1;32m     21\u001b[0m \u001b[0;34m\u001b[0m\u001b[0m\n",
      "\u001b[0;32m/usr/lib/python3.6/multiprocessing/pool.py\u001b[0m in \u001b[0;36mmap\u001b[0;34m(self, func, iterable, chunksize)\u001b[0m\n\u001b[1;32m    264\u001b[0m         \u001b[0;32min\u001b[0m \u001b[0ma\u001b[0m \u001b[0mlist\u001b[0m \u001b[0mthat\u001b[0m \u001b[0;32mis\u001b[0m \u001b[0mreturned\u001b[0m\u001b[0;34m.\u001b[0m\u001b[0;34m\u001b[0m\u001b[0;34m\u001b[0m\u001b[0m\n\u001b[1;32m    265\u001b[0m         '''\n\u001b[0;32m--> 266\u001b[0;31m         \u001b[0;32mreturn\u001b[0m \u001b[0mself\u001b[0m\u001b[0;34m.\u001b[0m\u001b[0m_map_async\u001b[0m\u001b[0;34m(\u001b[0m\u001b[0mfunc\u001b[0m\u001b[0;34m,\u001b[0m \u001b[0miterable\u001b[0m\u001b[0;34m,\u001b[0m \u001b[0mmapstar\u001b[0m\u001b[0;34m,\u001b[0m \u001b[0mchunksize\u001b[0m\u001b[0;34m)\u001b[0m\u001b[0;34m.\u001b[0m\u001b[0mget\u001b[0m\u001b[0;34m(\u001b[0m\u001b[0;34m)\u001b[0m\u001b[0;34m\u001b[0m\u001b[0;34m\u001b[0m\u001b[0m\n\u001b[0m\u001b[1;32m    267\u001b[0m \u001b[0;34m\u001b[0m\u001b[0m\n\u001b[1;32m    268\u001b[0m     \u001b[0;32mdef\u001b[0m \u001b[0mstarmap\u001b[0m\u001b[0;34m(\u001b[0m\u001b[0mself\u001b[0m\u001b[0;34m,\u001b[0m \u001b[0mfunc\u001b[0m\u001b[0;34m,\u001b[0m \u001b[0miterable\u001b[0m\u001b[0;34m,\u001b[0m \u001b[0mchunksize\u001b[0m\u001b[0;34m=\u001b[0m\u001b[0;32mNone\u001b[0m\u001b[0;34m)\u001b[0m\u001b[0;34m:\u001b[0m\u001b[0;34m\u001b[0m\u001b[0;34m\u001b[0m\u001b[0m\n",
      "\u001b[0;32m/usr/lib/python3.6/multiprocessing/pool.py\u001b[0m in \u001b[0;36mget\u001b[0;34m(self, timeout)\u001b[0m\n\u001b[1;32m    642\u001b[0m             \u001b[0;32mreturn\u001b[0m \u001b[0mself\u001b[0m\u001b[0;34m.\u001b[0m\u001b[0m_value\u001b[0m\u001b[0;34m\u001b[0m\u001b[0;34m\u001b[0m\u001b[0m\n\u001b[1;32m    643\u001b[0m         \u001b[0;32melse\u001b[0m\u001b[0;34m:\u001b[0m\u001b[0;34m\u001b[0m\u001b[0;34m\u001b[0m\u001b[0m\n\u001b[0;32m--> 644\u001b[0;31m             \u001b[0;32mraise\u001b[0m \u001b[0mself\u001b[0m\u001b[0;34m.\u001b[0m\u001b[0m_value\u001b[0m\u001b[0;34m\u001b[0m\u001b[0;34m\u001b[0m\u001b[0m\n\u001b[0m\u001b[1;32m    645\u001b[0m \u001b[0;34m\u001b[0m\u001b[0m\n\u001b[1;32m    646\u001b[0m     \u001b[0;32mdef\u001b[0m \u001b[0m_set\u001b[0m\u001b[0;34m(\u001b[0m\u001b[0mself\u001b[0m\u001b[0;34m,\u001b[0m \u001b[0mi\u001b[0m\u001b[0;34m,\u001b[0m \u001b[0mobj\u001b[0m\u001b[0;34m)\u001b[0m\u001b[0;34m:\u001b[0m\u001b[0;34m\u001b[0m\u001b[0;34m\u001b[0m\u001b[0m\n",
      "\u001b[0;31mTypeError\u001b[0m: distance_entropy() missing 1 required positional argument: 'right_concept'"
     ]
    }
   ],
   "source": [
    "import multiprocessing\n",
    "import numpy as np\n",
    "from itertools import combinations\n",
    "from functools import partial\n",
    "\n",
    "hort_test_concepts = df_selected_articleconcepts['conceptid'].unique() # unique concepts in the database - need to code a selection of topic\n",
    "short_test_conepts_10 = hort_test_concepts[:5] # the sample list of concepts\n",
    "\n",
    "res_lst = sorted(map(sorted, combinations(set(short_test_conepts_10), 2))) # the list of unique tuples of concepts\n",
    "\n",
    "# def myfunc(p):\n",
    "    #product_of_list = np.prod(p)\n",
    "    #return product_of_list\n",
    "# distance_entropy(266, 3545, '1986-04-25', '2018-04-25', df_selected_articleconcepts, df_articleidtotals)\n",
    "\n",
    "def parallel_runs(data_list):\n",
    "    pool = multiprocessing.Pool(processes=4)\n",
    "    prod_x=partial(distance_entropy, start_date = '1986-04-25', end_date = '2018-04-25', df_data = df_selected_articleconcepts, df_totals = df_articleidtotals) #prod_x has only one argument x (y is fixed to 10)\n",
    "    result_list = pool.map(prod_x, res_lst)\n",
    "    print(result_list)\n",
    "\n",
    "if __name__ == '__main__':\n",
    "    parallel_runs(res_lst)\n",
    "    #pool = multiprocessing.Pool(processes=10)\n",
    "    #result_list = pool.map(myfunc, res_lst)\n",
    "    #print(result_list[:10])"
   ]
  },
  {
   "cell_type": "code",
   "execution_count": null,
   "metadata": {},
   "outputs": [
    {
     "name": "stdout",
     "output_type": "stream",
     "text": [
      "[10, 20, 30, 40]\n"
     ]
    }
   ],
   "source": [
    "import multiprocessing\n",
    "from functools import partial\n",
    "data_list = [1,2,3,4]\n",
    "\n",
    "def prod_xy(x,y):\n",
    "    return x * y\n",
    "\n",
    "def parallel_runs(data_list):\n",
    "    pool = multiprocessing.Pool(processes=4)\n",
    "    prod_x=partial(prod_xy, y=10) #prod_x has only one argument x (y is fixed to 10)\n",
    "    result_list = pool.map(prod_x, data_list)\n",
    "    print(result_list)\n",
    "\n",
    "if __name__ == '__main__':\n",
    "    parallel_runs(data_list)"
   ]
  }
 ],
 "metadata": {
  "kernelspec": {
   "display_name": "Python 3.6.9 64-bit",
   "language": "python",
   "name": "python3"
  },
  "language_info": {
   "codemirror_mode": {
    "name": "ipython",
    "version": 3
   },
   "file_extension": ".py",
   "mimetype": "text/x-python",
   "name": "python",
   "nbconvert_exporter": "python",
   "pygments_lexer": "ipython3",
   "version": "3.6.9"
  },
  "orig_nbformat": 4,
  "vscode": {
   "interpreter": {
    "hash": "31f2aee4e71d21fbe5cf8b01ff0e069b9275f58929596ceb00d14d90e3e16cd6"
   }
  }
 },
 "nbformat": 4,
 "nbformat_minor": 2
}
